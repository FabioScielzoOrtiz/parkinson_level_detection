{
 "cells": [
  {
   "cell_type": "markdown",
   "metadata": {},
   "source": [
    "# **Outer Evaluation**"
   ]
  },
  {
   "cell_type": "markdown",
   "metadata": {},
   "source": [
    "> **The next step is to make an ***estimation of the future performance*** of the best pipeline, that is, how it would work classifying the level of PD of new patients, based in their voice. This part is called ***outer evaluation***.**"
   ]
  },
  {
   "cell_type": "markdown",
   "metadata": {},
   "source": [
    "## **Requirements**"
   ]
  },
  {
   "cell_type": "code",
   "execution_count": 13,
   "metadata": {},
   "outputs": [],
   "source": [
    "import numpy  as np\n",
    "import polars as pl\n",
    "import sys\n",
    "import pickle\n",
    "from sklearn.neural_network import MLPClassifier\n",
    "import seaborn as sns\n",
    "sns.set_style('whitegrid')\n",
    "from sklearn.model_selection import train_test_split\n",
    "from itertools import combinations\n",
    "from sklearn.metrics import accuracy_score, balanced_accuracy_score, ConfusionMatrixDisplay, confusion_matrix\n",
    "import matplotlib.pyplot as plt\n",
    "import seaborn as sns\n",
    "sns.set_style('whitegrid')"
   ]
  },
  {
   "cell_type": "code",
   "execution_count": 2,
   "metadata": {},
   "outputs": [],
   "source": [
    "sys.path.insert(0, r'C:\\Users\\fscielzo\\Documents\\Packages\\PyAudio_Package_Private')\n",
    "from PyAudio import get_X_audio_features"
   ]
  },
  {
   "cell_type": "code",
   "execution_count": 3,
   "metadata": {},
   "outputs": [],
   "source": [
    "with open(f'results/final_best_method', 'rb') as file:\n",
    "            final_best_method = pickle.load(file)\n",
    "\n",
    "with open(f'results/final_best_stats', 'rb') as file:\n",
    "        final_best_stats = pickle.load(file)\n",
    "\n",
    "with open(f'results/final_best_model', 'rb') as file:\n",
    "        final_best_model = pickle.load(file)\n",
    "\n",
    "with open(f'results/best_params_3', 'rb') as file:\n",
    "        best_params = pickle.load(file)"
   ]
  },
  {
   "cell_type": "markdown",
   "metadata": {},
   "source": [
    "## **Data definition**"
   ]
  },
  {
   "cell_type": "code",
   "execution_count": 5,
   "metadata": {},
   "outputs": [],
   "source": [
    "files_list_name = 'Data/Files_List.txt'\n",
    "files_df = pl.read_csv(files_list_name, separator='\\t', has_header=False, new_columns=['path', 'level'])"
   ]
  },
  {
   "cell_type": "code",
   "execution_count": 6,
   "metadata": {},
   "outputs": [],
   "source": [
    "fs = 16000 # Sampling frequency\n",
    "wst = 0.032 # Window size (seconds)\n",
    "fpt = 0.008 # Frame period (seconds)\n",
    "nfft = int(np.ceil(wst*fs)) # Window size (samples)\n",
    "fp = int(np.ceil(fpt*fs)) # Frame period (samples)\n",
    "nbands = 40 # Number of filters in the filterbank\n",
    "ncomp = 20 # Number of MFCC components"
   ]
  },
  {
   "cell_type": "code",
   "execution_count": 7,
   "metadata": {},
   "outputs": [],
   "source": [
    "Y = files_df['level'].to_numpy()\n",
    "\n",
    "simple_methods = ['MFCC', 'spectral_centroid', 'chroma', 'spectral_bandwidth', \n",
    "                  'spectral_contrast', 'spectral_rolloff', 'zero_crossing_rate', 'tempogram']\n",
    "\n",
    "combined_methods = []\n",
    "\n",
    "stats = ['mean-std', 'median-std', 'mean-median-std', 'mean-Q25-median-Q75-std']\n",
    "\n",
    "sizes = range(2, len(simple_methods) + 1)\n",
    "\n",
    "combined_methods = ['-'.join(sorted(combi)) for size in sizes for combi in combinations(simple_methods, size)]\n",
    "\n",
    "X_stats, X_stats_train, X_stats_test = {method: {} for method in simple_methods + combined_methods}, {method: {} for method in simple_methods + combined_methods}, {method: {} for method in simple_methods + combined_methods}\n",
    "\n",
    "for method in simple_methods:\n",
    "    for stat in stats:\n",
    "\n",
    "        X_stats[method][stat] = get_X_audio_features(paths=files_df['path'], method=method, stats=stat, sr=fs, n_fft=nfft, hop_length=fp, n_mels=nbands, n_mfcc=ncomp)\n",
    "\n",
    "for method in combined_methods:\n",
    "    for stat in stats:\n",
    "\n",
    "        X_stats[method][stat] = np.column_stack([X_stats[method.split('-')[i]][stat] for i in range(0, len(method.split('-')))])"
   ]
  },
  {
   "cell_type": "markdown",
   "metadata": {},
   "source": [
    "## **Outer validation method: train-test split**"
   ]
  },
  {
   "cell_type": "code",
   "execution_count": 8,
   "metadata": {},
   "outputs": [],
   "source": [
    "for method in simple_methods + combined_methods:\n",
    "    for stat in stats:\n",
    "        X_stats_train[method][stat], X_stats_test[method][stat], Y_train, Y_test = train_test_split(X_stats[method][stat], Y, test_size=0.25, random_state=123, stratify=Y)"
   ]
  },
  {
   "cell_type": "markdown",
   "metadata": {},
   "source": [
    "## **Applying Outer Evaluation**"
   ]
  },
  {
   "cell_type": "markdown",
   "metadata": {},
   "source": [
    "We print the saved results in order to review which is the best pipeline, namely, the best combination of feature extraction method and model (with its hyper-parameters)."
   ]
  },
  {
   "cell_type": "code",
   "execution_count": 9,
   "metadata": {},
   "outputs": [
    {
     "name": "stdout",
     "output_type": "stream",
     "text": [
      "Best features extraction method is the combined method MFCC-chroma-spectral_bandwidth-spectral_contrast-zero_crossing_rate with the statistics mean-Q25-median-Q75-std\n",
      "And the best model is MLP with the following hyper-parameters:\n",
      "{'learning_rate_init': 0.0007230035617449583, 'alpha': 0.0015684955983016854, 'activation': 'logistic', 'hidden_layer_sizes': 300, 'max_iter': 300}\n"
     ]
    }
   ],
   "source": [
    "print(f'Best features extraction method is the combined method {final_best_method} with the statistics {final_best_stats}')\n",
    "print(f'And the best model is {final_best_model} with the following hyper-parameters:\\n{best_params[final_best_method][final_best_stats][final_best_model]}')"
   ]
  },
  {
   "cell_type": "markdown",
   "metadata": {},
   "source": [
    "- Estimation of future performance based on the testing partition:"
   ]
  },
  {
   "cell_type": "code",
   "execution_count": null,
   "metadata": {},
   "outputs": [],
   "source": [
    "MLP_model = MLPClassifier(random_state=123).set_params(**best_params[final_best_method][final_best_stats][final_best_model])\n",
    "MLP_model.fit(X=X_stats_train[final_best_method][final_best_stats], y=Y_train)\n",
    "Y_test_hat = MLP_model.predict(X=X_stats_test[final_best_method][final_best_stats])\n",
    "future_performance_balanced_acc = balanced_accuracy_score(y_pred=Y_test_hat, y_true=Y_test)\n",
    "future_performance_acc = accuracy_score(y_pred=Y_test_hat, y_true=Y_test)"
   ]
  },
  {
   "cell_type": "code",
   "execution_count": 11,
   "metadata": {},
   "outputs": [
    {
     "name": "stdout",
     "output_type": "stream",
     "text": [
      "The estimation of future performance of the best pipeline in terms of balanced accuracy is 83%, and in terms of accuracy is 85%.\n"
     ]
    }
   ],
   "source": [
    "print(f'The estimation of future performance of the best pipeline in terms of balanced accuracy is {int(np.round(future_performance_balanced_acc, 2)*100)}%, and in terms of accuracy is {int(np.round(future_performance_acc, 2)*100)}%.')"
   ]
  },
  {
   "cell_type": "code",
   "execution_count": 14,
   "metadata": {},
   "outputs": [
    {
     "data": {
      "image/png": "[encoded data removed]",
      "text/plain": [
       "<Figure size 700x700 with 2 Axes>"
      ]
     },
     "metadata": {},
     "output_type": "display_data"
    }
   ],
   "source": [
    "cm = confusion_matrix(y_pred=Y_test_hat, y_true=Y_test, normalize='true', labels=MLP_model.classes_)\n",
    "# normalize='true' to normalize over the rows (true classes)\n",
    "disp = ConfusionMatrixDisplay(confusion_matrix=cm, display_labels=MLP_model.classes_)\n",
    "\n",
    "fig, axs = plt.subplots(figsize=(7,7))\n",
    "disp.plot(ax=axs, cmap=plt.cm.Blues, values_format='.3f', text_kw={'fontsize': 13})\n",
    "plt.title('Confusion Matrix over true classes\\n Multi-Layer Perceptron', weight='bold', fontsize=13)\n",
    "axs.set_xlabel('Predicted class', size=12)\n",
    "axs.set_ylabel('True class', size=12)\n",
    "plt.xticks(fontsize=12)\n",
    "plt.yticks(fontsize=12)\n",
    "plt.grid(False)\n",
    "plt.show()"
   ]
  },
  {
   "cell_type": "markdown",
   "metadata": {},
   "source": [
    "The results of the confusion matrix are generally good, these results were expected based on the estimation of future performance. The errors made by the model are localized, there are no major confusions. The error is always one level.\n",
    "\n",
    "The class that produces the biggest error is class 3 (severe level), it seems that the model does not recognize this class too well, something that may be due to an unbalance of this class, there are fewer samples of this class so the model maybe does not capture the characteristics that differentiate this class from class 2. With some kind of class balancing or weights, the accuracy in that class could be increased if necessary."
   ]
  }
 ],
 "metadata": {
  "kernelspec": {
   "display_name": "Python 3",
   "language": "python",
   "name": "python3"
  },
  "language_info": {
   "codemirror_mode": {
    "name": "ipython",
    "version": 3
   },
   "file_extension": ".py",
   "mimetype": "text/x-python",
   "name": "python",
   "nbconvert_exporter": "python",
   "pygments_lexer": "ipython3",
   "version": "3.12.0"
  }
 },
 "nbformat": 4,
 "nbformat_minor": 2
}
